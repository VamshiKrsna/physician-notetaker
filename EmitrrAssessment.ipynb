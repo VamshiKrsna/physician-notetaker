{
 "cells": [
  {
   "cell_type": "markdown",
   "id": "1d8335c4-023a-44d2-9ac5-96ae8bca0eba",
   "metadata": {},
   "source": [
    "# Physician Notetaker\n",
    "\n",
    "Link to Assessment : https://sunset-parrot-38b.notion.site/Physician-Notetaker-1ac7fca3d41680849078deb25228b34f"
   ]
  },
  {
   "cell_type": "markdown",
   "id": "a768e0d1-5154-4244-8acd-b88db9f548db",
   "metadata": {},
   "source": [
    "## Task 1 : Medical NLP Summarization \n",
    "\n",
    "**Task:** Implement an NLP pipeline to **extract medical details** from the transcribed conversation.\n",
    "\n",
    "### **📍 Deliverables:**\n",
    "\n",
    "1. **Named Entity Recognition (NER):** Extract **Symptoms, Treatment, Diagnosis, Prognosis** using `spaCy` or `transformers`.\n",
    "2. **Text Summarization:** Convert the transcript into a **structured medical report**.\n",
    "3. **Keyword Extraction:** Identify **important medical phrases** (e.g., \"whiplash injury,\" \"physiotherapy sessions\").\n",
    "\n",
    "**📍 Sample Input (Raw Transcript):**\n",
    "\n",
    "```\n",
    "text\n",
    "CopyEdit\n",
    "Doctor: How are you feeling today?\n",
    "Patient: I had a car accident. My neck and back hurt a lot for four weeks.\n",
    "Doctor: Did you receive treatment?\n",
    "Patient: Yes, I had ten physiotherapy sessions, and now I only have occasional back pain.\n",
    "\n",
    "```\n",
    "\n",
    "**📍 Expected Output (Structured Summary in JSON Format):**\n",
    "\n",
    "```json\n",
    "json\n",
    "CopyEdit\n",
    "{\n",
    "  \"Patient_Name\": \"Janet Jones\",\n",
    "  \"Symptoms\": [\"Neck pain\", \"Back pain\", \"Head impact\"],\n",
    "  \"Diagnosis\": \"Whiplash injury\",\n",
    "  \"Treatment\": [\"10 physiotherapy sessions\", \"Painkillers\"],\n",
    "  \"Current_Status\": \"Occasional backache\",\n",
    "  \"Prognosis\": \"Full recovery expected within six months\"\n",
    "}\n",
    "\n",
    "```\n",
    "\n",
    "**📍 Questions:**\n",
    "\n",
    "- How would you handle **ambiguous or missing medical data** in the transcript?\n",
    "- What **pre-trained NLP models** would you use for medical summarization?\n",
    "\n"
   ]
  },
  {
   "cell_type": "markdown",
   "id": "df8364d4-1d9f-4b00-bc82-9e1ab0da1c3f",
   "metadata": {},
   "source": [
    "## Task 1 Using Spacy"
   ]
  },
  {
   "cell_type": "code",
   "execution_count": 5,
   "id": "d575a4bf-a442-4247-8153-b1c45fd9d82b",
   "metadata": {},
   "outputs": [
    {
     "name": "stdout",
     "output_type": "stream",
     "text": [
      "Defaulting to user installation because normal site-packages is not writeable\n",
      "Requirement already satisfied: spacy in c:\\users\\rizen3\\appdata\\roaming\\python\\python311\\site-packages (3.7.4)\n",
      "Collecting scispacy\n",
      "  Using cached scispacy-0.5.5-py3-none-any.whl.metadata (18 kB)\n",
      "Requirement already satisfied: spacy-legacy<3.1.0,>=3.0.11 in c:\\users\\rizen3\\appdata\\roaming\\python\\python311\\site-packages (from spacy) (3.0.12)\n",
      "Requirement already satisfied: spacy-loggers<2.0.0,>=1.0.0 in c:\\users\\rizen3\\appdata\\roaming\\python\\python311\\site-packages (from spacy) (1.0.5)\n",
      "Requirement already satisfied: murmurhash<1.1.0,>=0.28.0 in c:\\users\\rizen3\\appdata\\roaming\\python\\python311\\site-packages (from spacy) (1.0.10)\n",
      "Requirement already satisfied: cymem<2.1.0,>=2.0.2 in c:\\users\\rizen3\\appdata\\roaming\\python\\python311\\site-packages (from spacy) (2.0.8)\n",
      "Requirement already satisfied: preshed<3.1.0,>=3.0.2 in c:\\users\\rizen3\\appdata\\roaming\\python\\python311\\site-packages (from spacy) (3.0.9)\n",
      "Requirement already satisfied: thinc<8.3.0,>=8.2.2 in c:\\users\\rizen3\\appdata\\roaming\\python\\python311\\site-packages (from spacy) (8.2.3)\n",
      "Requirement already satisfied: wasabi<1.2.0,>=0.9.1 in c:\\users\\rizen3\\appdata\\roaming\\python\\python311\\site-packages (from spacy) (1.1.2)\n",
      "Requirement already satisfied: srsly<3.0.0,>=2.4.3 in c:\\users\\rizen3\\appdata\\roaming\\python\\python311\\site-packages (from spacy) (2.4.8)\n",
      "Requirement already satisfied: catalogue<2.1.0,>=2.0.6 in c:\\users\\rizen3\\appdata\\roaming\\python\\python311\\site-packages (from spacy) (2.0.10)\n",
      "Requirement already satisfied: weasel<0.4.0,>=0.1.0 in c:\\users\\rizen3\\appdata\\roaming\\python\\python311\\site-packages (from spacy) (0.3.4)\n",
      "Collecting typer<0.10.0,>=0.3.0 (from spacy)\n",
      "  Downloading typer-0.9.4-py3-none-any.whl.metadata (14 kB)\n",
      "Requirement already satisfied: smart-open<7.0.0,>=5.2.1 in c:\\users\\rizen3\\appdata\\roaming\\python\\python311\\site-packages (from spacy) (6.4.0)\n",
      "Requirement already satisfied: tqdm<5.0.0,>=4.38.0 in c:\\users\\rizen3\\appdata\\roaming\\python\\python311\\site-packages (from spacy) (4.66.2)\n",
      "Requirement already satisfied: requests<3.0.0,>=2.13.0 in c:\\users\\rizen3\\appdata\\roaming\\python\\python311\\site-packages (from spacy) (2.32.3)\n",
      "Requirement already satisfied: pydantic!=1.8,!=1.8.1,<3.0.0,>=1.7.4 in c:\\users\\rizen3\\appdata\\roaming\\python\\python311\\site-packages (from spacy) (2.9.2)\n",
      "Requirement already satisfied: jinja2 in c:\\users\\rizen3\\appdata\\roaming\\python\\python311\\site-packages (from spacy) (3.1.5)\n",
      "Requirement already satisfied: setuptools in c:\\program files\\python311\\lib\\site-packages (from spacy) (65.5.0)\n",
      "Requirement already satisfied: packaging>=20.0 in c:\\users\\rizen3\\appdata\\roaming\\python\\python311\\site-packages (from spacy) (23.2)\n",
      "Requirement already satisfied: langcodes<4.0.0,>=3.2.0 in c:\\users\\rizen3\\appdata\\roaming\\python\\python311\\site-packages (from spacy) (3.3.0)\n",
      "Requirement already satisfied: numpy>=1.19.0 in c:\\users\\rizen3\\appdata\\roaming\\python\\python311\\site-packages (from spacy) (1.26.4)\n",
      "Requirement already satisfied: scipy in c:\\users\\rizen3\\appdata\\roaming\\python\\python311\\site-packages (from scispacy) (1.11.1)\n",
      "Collecting conllu (from scispacy)\n",
      "  Downloading conllu-6.0.0-py3-none-any.whl.metadata (21 kB)\n",
      "Requirement already satisfied: joblib in c:\\users\\rizen3\\appdata\\roaming\\python\\python311\\site-packages (from scispacy) (1.3.2)\n",
      "Requirement already satisfied: scikit-learn>=0.20.3 in c:\\users\\rizen3\\appdata\\roaming\\python\\python311\\site-packages (from scispacy) (1.4.2)\n",
      "Requirement already satisfied: pysbd in c:\\users\\rizen3\\appdata\\roaming\\python\\python311\\site-packages (from scispacy) (0.3.4)\n",
      "Collecting nmslib-metabrainz==2.1.3 (from scispacy)\n",
      "  Downloading nmslib_metabrainz-2.1.3-cp311-cp311-win_amd64.whl.metadata (975 bytes)\n",
      "Collecting pybind11>=2.2.3 (from nmslib-metabrainz==2.1.3->scispacy)\n",
      "  Downloading pybind11-2.13.6-py3-none-any.whl.metadata (9.5 kB)\n",
      "Requirement already satisfied: psutil in c:\\users\\rizen3\\appdata\\roaming\\python\\python311\\site-packages (from nmslib-metabrainz==2.1.3->scispacy) (6.1.1)\n",
      "Requirement already satisfied: annotated-types>=0.6.0 in c:\\users\\rizen3\\appdata\\roaming\\python\\python311\\site-packages (from pydantic!=1.8,!=1.8.1,<3.0.0,>=1.7.4->spacy) (0.7.0)\n",
      "Requirement already satisfied: pydantic-core==2.23.4 in c:\\users\\rizen3\\appdata\\roaming\\python\\python311\\site-packages (from pydantic!=1.8,!=1.8.1,<3.0.0,>=1.7.4->spacy) (2.23.4)\n",
      "Requirement already satisfied: typing-extensions>=4.6.1 in c:\\users\\rizen3\\appdata\\roaming\\python\\python311\\site-packages (from pydantic!=1.8,!=1.8.1,<3.0.0,>=1.7.4->spacy) (4.12.2)\n",
      "Requirement already satisfied: charset-normalizer<4,>=2 in c:\\users\\rizen3\\appdata\\roaming\\python\\python311\\site-packages (from requests<3.0.0,>=2.13.0->spacy) (3.1.0)\n",
      "Requirement already satisfied: idna<4,>=2.5 in c:\\users\\rizen3\\appdata\\roaming\\python\\python311\\site-packages (from requests<3.0.0,>=2.13.0->spacy) (2.10)\n",
      "Requirement already satisfied: urllib3<3,>=1.21.1 in c:\\users\\rizen3\\appdata\\roaming\\python\\python311\\site-packages (from requests<3.0.0,>=2.13.0->spacy) (2.2.2)\n",
      "Requirement already satisfied: certifi>=2017.4.17 in c:\\users\\rizen3\\appdata\\roaming\\python\\python311\\site-packages (from requests<3.0.0,>=2.13.0->spacy) (2024.12.14)\n",
      "Requirement already satisfied: threadpoolctl>=2.0.0 in c:\\users\\rizen3\\appdata\\roaming\\python\\python311\\site-packages (from scikit-learn>=0.20.3->scispacy) (3.2.0)\n",
      "Requirement already satisfied: blis<0.8.0,>=0.7.8 in c:\\users\\rizen3\\appdata\\roaming\\python\\python311\\site-packages (from thinc<8.3.0,>=8.2.2->spacy) (0.7.11)\n",
      "Requirement already satisfied: confection<1.0.0,>=0.0.1 in c:\\users\\rizen3\\appdata\\roaming\\python\\python311\\site-packages (from thinc<8.3.0,>=8.2.2->spacy) (0.1.4)\n",
      "Requirement already satisfied: colorama in c:\\users\\rizen3\\appdata\\roaming\\python\\python311\\site-packages (from tqdm<5.0.0,>=4.38.0->spacy) (0.4.6)\n",
      "Requirement already satisfied: click<9.0.0,>=7.1.1 in c:\\users\\rizen3\\appdata\\roaming\\python\\python311\\site-packages (from typer<0.10.0,>=0.3.0->spacy) (8.1.8)\n",
      "Requirement already satisfied: cloudpathlib<0.17.0,>=0.7.0 in c:\\users\\rizen3\\appdata\\roaming\\python\\python311\\site-packages (from weasel<0.4.0,>=0.1.0->spacy) (0.16.0)\n",
      "Requirement already satisfied: MarkupSafe>=2.0 in c:\\users\\rizen3\\appdata\\roaming\\python\\python311\\site-packages (from jinja2->spacy) (2.1.5)\n",
      "Downloading scispacy-0.5.5-py3-none-any.whl (46 kB)\n",
      "Downloading nmslib_metabrainz-2.1.3-cp311-cp311-win_amd64.whl (468 kB)\n",
      "Downloading typer-0.9.4-py3-none-any.whl (45 kB)\n",
      "Downloading conllu-6.0.0-py3-none-any.whl (16 kB)\n",
      "Downloading pybind11-2.13.6-py3-none-any.whl (243 kB)\n",
      "Installing collected packages: pybind11, conllu, typer, nmslib-metabrainz, scispacy\n",
      "  Attempting uninstall: typer\n",
      "    Found existing installation: typer 0.15.1\n",
      "    Uninstalling typer-0.15.1:\n",
      "      Successfully uninstalled typer-0.15.1\n",
      "Successfully installed conllu-6.0.0 nmslib-metabrainz-2.1.3 pybind11-2.13.6 scispacy-0.5.5 typer-0.9.4\n"
     ]
    },
    {
     "name": "stderr",
     "output_type": "stream",
     "text": [
      "ERROR: pip's dependency resolver does not currently take into account all the packages that are installed. This behaviour is the source of the following dependency conflicts.\n",
      "prefect 2.10.8 requires coolname>=1.0.4, which is not installed.\n",
      "prefect 2.10.8 requires pathspec>=0.8.0, which is not installed.\n",
      "prefect 2.10.8 requires python-slugify>=5.0, which is not installed.\n",
      "prefect 2.10.8 requires readchar>=4.0.0, which is not installed.\n",
      "embedchain 0.1.103 requires alembic<2.0.0,>=1.13.1, but you have alembic 1.8.1 which is incompatible.\n",
      "embedchain 0.1.103 requires langchain<0.2.0,>=0.1.4, but you have langchain 0.3.3 which is incompatible.\n",
      "embedchain 0.1.103 requires tiktoken<0.6.0,>=0.5.2, but you have tiktoken 0.8.0 which is incompatible.\n",
      "gradio 5.16.1 requires typer<1.0,>=0.12; sys_platform != \"emscripten\", but you have typer 0.9.4 which is incompatible.\n",
      "prefect 2.10.8 requires sqlalchemy[asyncio]!=1.4.33,<2.0,>=1.4.22, but you have sqlalchemy 2.0.36 which is incompatible.\n",
      "\n",
      "[notice] A new release of pip is available: 24.2 -> 25.0.1\n",
      "[notice] To update, run: python.exe -m pip install --upgrade pip\n"
     ]
    }
   ],
   "source": [
    "!pip install spacy scispacy"
   ]
  },
  {
   "cell_type": "code",
   "execution_count": 6,
   "id": "e9db7a9e-f247-4657-8432-b4143dd3522c",
   "metadata": {},
   "outputs": [],
   "source": [
    "import spacy\n",
    "from scispacy.linking import EntityLinker # For Medical specific entities\n",
    "import json"
   ]
  },
  {
   "cell_type": "code",
   "execution_count": 23,
   "id": "d9f843be-5826-4c8a-a09a-ea8602f9d1aa",
   "metadata": {},
   "outputs": [
    {
     "name": "stdout",
     "output_type": "stream",
     "text": [
      "Defaulting to user installation because normal site-packages is not writeable"
     ]
    },
    {
     "name": "stderr",
     "output_type": "stream",
     "text": [
      "WARNING: Ignoring invalid distribution ~pacy (C:\\Users\\Rizen3\\AppData\\Roaming\\Python\\Python311\\site-packages)\n",
      "WARNING: Ignoring invalid distribution ~pacy (C:\\Users\\Rizen3\\AppData\\Roaming\\Python\\Python311\\site-packages)\n",
      "WARNING: Ignoring invalid distribution ~pacy (C:\\Users\\Rizen3\\AppData\\Roaming\\Python\\Python311\\site-packages)\n",
      "WARNING: Ignoring invalid distribution ~pacy (C:\\Users\\Rizen3\\AppData\\Roaming\\Python\\Python311\\site-packages)\n",
      "\n",
      "[notice] A new release of pip is available: 24.2 -> 25.0.1\n",
      "[notice] To update, run: python.exe -m pip install --upgrade pip\n"
     ]
    },
    {
     "name": "stdout",
     "output_type": "stream",
     "text": [
      "\n",
      "Requirement already satisfied: spacy==3.7.4 in c:\\users\\rizen3\\appdata\\roaming\\python\\python311\\site-packages (3.7.4)\n",
      "Requirement already satisfied: scispacy==0.5.5 in c:\\users\\rizen3\\appdata\\roaming\\python\\python311\\site-packages (0.5.5)\n",
      "Requirement already satisfied: spacy-legacy<3.1.0,>=3.0.11 in c:\\users\\rizen3\\appdata\\roaming\\python\\python311\\site-packages (from spacy==3.7.4) (3.0.12)\n",
      "Requirement already satisfied: spacy-loggers<2.0.0,>=1.0.0 in c:\\users\\rizen3\\appdata\\roaming\\python\\python311\\site-packages (from spacy==3.7.4) (1.0.5)\n",
      "Requirement already satisfied: murmurhash<1.1.0,>=0.28.0 in c:\\users\\rizen3\\appdata\\roaming\\python\\python311\\site-packages (from spacy==3.7.4) (1.0.10)\n",
      "Requirement already satisfied: cymem<2.1.0,>=2.0.2 in c:\\users\\rizen3\\appdata\\roaming\\python\\python311\\site-packages (from spacy==3.7.4) (2.0.8)\n",
      "Requirement already satisfied: preshed<3.1.0,>=3.0.2 in c:\\users\\rizen3\\appdata\\roaming\\python\\python311\\site-packages (from spacy==3.7.4) (3.0.9)\n",
      "Collecting thinc<8.3.0,>=8.2.2 (from spacy==3.7.4)\n",
      "  Using cached thinc-8.2.5-cp311-cp311-win_amd64.whl.metadata (15 kB)\n",
      "Requirement already satisfied: wasabi<1.2.0,>=0.9.1 in c:\\users\\rizen3\\appdata\\roaming\\python\\python311\\site-packages (from spacy==3.7.4) (1.1.2)\n",
      "Requirement already satisfied: srsly<3.0.0,>=2.4.3 in c:\\users\\rizen3\\appdata\\roaming\\python\\python311\\site-packages (from spacy==3.7.4) (2.4.8)\n",
      "Requirement already satisfied: catalogue<2.1.0,>=2.0.6 in c:\\users\\rizen3\\appdata\\roaming\\python\\python311\\site-packages (from spacy==3.7.4) (2.0.10)\n",
      "Requirement already satisfied: weasel<0.4.0,>=0.1.0 in c:\\users\\rizen3\\appdata\\roaming\\python\\python311\\site-packages (from spacy==3.7.4) (0.3.4)\n",
      "Requirement already satisfied: typer<0.10.0,>=0.3.0 in c:\\users\\rizen3\\appdata\\roaming\\python\\python311\\site-packages (from spacy==3.7.4) (0.9.4)\n",
      "Requirement already satisfied: smart-open<7.0.0,>=5.2.1 in c:\\users\\rizen3\\appdata\\roaming\\python\\python311\\site-packages (from spacy==3.7.4) (6.4.0)\n",
      "Requirement already satisfied: tqdm<5.0.0,>=4.38.0 in c:\\users\\rizen3\\appdata\\roaming\\python\\python311\\site-packages (from spacy==3.7.4) (4.66.2)\n",
      "Requirement already satisfied: requests<3.0.0,>=2.13.0 in c:\\users\\rizen3\\appdata\\roaming\\python\\python311\\site-packages (from spacy==3.7.4) (2.32.3)\n",
      "Requirement already satisfied: pydantic!=1.8,!=1.8.1,<3.0.0,>=1.7.4 in c:\\users\\rizen3\\appdata\\roaming\\python\\python311\\site-packages (from spacy==3.7.4) (2.9.2)\n",
      "Requirement already satisfied: jinja2 in c:\\users\\rizen3\\appdata\\roaming\\python\\python311\\site-packages (from spacy==3.7.4) (3.1.5)\n",
      "Requirement already satisfied: setuptools in c:\\program files\\python311\\lib\\site-packages (from spacy==3.7.4) (65.5.0)\n",
      "Requirement already satisfied: packaging>=20.0 in c:\\users\\rizen3\\appdata\\roaming\\python\\python311\\site-packages (from spacy==3.7.4) (23.2)\n",
      "Requirement already satisfied: langcodes<4.0.0,>=3.2.0 in c:\\users\\rizen3\\appdata\\roaming\\python\\python311\\site-packages (from spacy==3.7.4) (3.3.0)\n",
      "Requirement already satisfied: numpy>=1.19.0 in c:\\users\\rizen3\\appdata\\roaming\\python\\python311\\site-packages (from spacy==3.7.4) (1.26.4)\n",
      "Requirement already satisfied: scipy in c:\\users\\rizen3\\appdata\\roaming\\python\\python311\\site-packages (from scispacy==0.5.5) (1.11.1)\n",
      "Requirement already satisfied: conllu in c:\\users\\rizen3\\appdata\\roaming\\python\\python311\\site-packages (from scispacy==0.5.5) (6.0.0)\n",
      "Requirement already satisfied: joblib in c:\\users\\rizen3\\appdata\\roaming\\python\\python311\\site-packages (from scispacy==0.5.5) (1.3.2)\n",
      "Requirement already satisfied: scikit-learn>=0.20.3 in c:\\users\\rizen3\\appdata\\roaming\\python\\python311\\site-packages (from scispacy==0.5.5) (1.4.2)\n",
      "Requirement already satisfied: pysbd in c:\\users\\rizen3\\appdata\\roaming\\python\\python311\\site-packages (from scispacy==0.5.5) (0.3.4)\n",
      "Requirement already satisfied: nmslib-metabrainz==2.1.3 in c:\\users\\rizen3\\appdata\\roaming\\python\\python311\\site-packages (from scispacy==0.5.5) (2.1.3)\n",
      "Requirement already satisfied: pybind11>=2.2.3 in c:\\users\\rizen3\\appdata\\roaming\\python\\python311\\site-packages (from nmslib-metabrainz==2.1.3->scispacy==0.5.5) (2.13.6)\n",
      "Requirement already satisfied: psutil in c:\\users\\rizen3\\appdata\\roaming\\python\\python311\\site-packages (from nmslib-metabrainz==2.1.3->scispacy==0.5.5) (6.1.1)\n",
      "Requirement already satisfied: annotated-types>=0.6.0 in c:\\users\\rizen3\\appdata\\roaming\\python\\python311\\site-packages (from pydantic!=1.8,!=1.8.1,<3.0.0,>=1.7.4->spacy==3.7.4) (0.7.0)\n",
      "Requirement already satisfied: pydantic-core==2.23.4 in c:\\users\\rizen3\\appdata\\roaming\\python\\python311\\site-packages (from pydantic!=1.8,!=1.8.1,<3.0.0,>=1.7.4->spacy==3.7.4) (2.23.4)\n",
      "Requirement already satisfied: typing-extensions>=4.6.1 in c:\\users\\rizen3\\appdata\\roaming\\python\\python311\\site-packages (from pydantic!=1.8,!=1.8.1,<3.0.0,>=1.7.4->spacy==3.7.4) (4.12.2)\n",
      "Requirement already satisfied: charset-normalizer<4,>=2 in c:\\users\\rizen3\\appdata\\roaming\\python\\python311\\site-packages (from requests<3.0.0,>=2.13.0->spacy==3.7.4) (3.1.0)\n",
      "Requirement already satisfied: idna<4,>=2.5 in c:\\users\\rizen3\\appdata\\roaming\\python\\python311\\site-packages (from requests<3.0.0,>=2.13.0->spacy==3.7.4) (2.10)\n",
      "Requirement already satisfied: urllib3<3,>=1.21.1 in c:\\users\\rizen3\\appdata\\roaming\\python\\python311\\site-packages (from requests<3.0.0,>=2.13.0->spacy==3.7.4) (2.2.2)\n",
      "Requirement already satisfied: certifi>=2017.4.17 in c:\\users\\rizen3\\appdata\\roaming\\python\\python311\\site-packages (from requests<3.0.0,>=2.13.0->spacy==3.7.4) (2024.12.14)\n",
      "Requirement already satisfied: threadpoolctl>=2.0.0 in c:\\users\\rizen3\\appdata\\roaming\\python\\python311\\site-packages (from scikit-learn>=0.20.3->scispacy==0.5.5) (3.2.0)\n",
      "Requirement already satisfied: blis<0.8.0,>=0.7.8 in c:\\users\\rizen3\\appdata\\roaming\\python\\python311\\site-packages (from thinc<8.3.0,>=8.2.2->spacy==3.7.4) (0.7.11)\n",
      "Requirement already satisfied: confection<1.0.0,>=0.0.1 in c:\\users\\rizen3\\appdata\\roaming\\python\\python311\\site-packages (from thinc<8.3.0,>=8.2.2->spacy==3.7.4) (0.1.4)\n",
      "Requirement already satisfied: colorama in c:\\users\\rizen3\\appdata\\roaming\\python\\python311\\site-packages (from tqdm<5.0.0,>=4.38.0->spacy==3.7.4) (0.4.6)\n",
      "Requirement already satisfied: click<9.0.0,>=7.1.1 in c:\\users\\rizen3\\appdata\\roaming\\python\\python311\\site-packages (from typer<0.10.0,>=0.3.0->spacy==3.7.4) (8.1.8)\n",
      "Requirement already satisfied: cloudpathlib<0.17.0,>=0.7.0 in c:\\users\\rizen3\\appdata\\roaming\\python\\python311\\site-packages (from weasel<0.4.0,>=0.1.0->spacy==3.7.4) (0.16.0)\n",
      "Requirement already satisfied: MarkupSafe>=2.0 in c:\\users\\rizen3\\appdata\\roaming\\python\\python311\\site-packages (from jinja2->spacy==3.7.4) (2.1.5)\n",
      "Using cached thinc-8.2.5-cp311-cp311-win_amd64.whl (1.5 MB)\n",
      "Installing collected packages: thinc\n",
      "  Attempting uninstall: thinc\n",
      "    Found existing installation: thinc 8.1.12\n",
      "    Uninstalling thinc-8.1.12:\n",
      "      Successfully uninstalled thinc-8.1.12\n",
      "Successfully installed thinc-8.2.5\n"
     ]
    }
   ],
   "source": [
    "!pip install -U spacy==3.7.4 scispacy==0.5.5 \n",
    "# ^^^ Need above mentioned versions for the model to work better."
   ]
  },
  {
   "cell_type": "code",
   "execution_count": 24,
   "id": "808ac286-1395-4e33-aa0b-75ffc82e01a4",
   "metadata": {},
   "outputs": [
    {
     "name": "stdout",
     "output_type": "stream",
     "text": [
      "Defaulting to user installation because normal site-packages is not writeable\n",
      "Collecting https://s3-us-west-2.amazonaws.com/ai2-s2-scispacy/releases/v0.5.3/en_core_sci_md-0.5.3.tar.gz\n",
      "  Using cached https://s3-us-west-2.amazonaws.com/ai2-s2-scispacy/releases/v0.5.3/en_core_sci_md-0.5.3.tar.gz (119.1 MB)\n",
      "  Preparing metadata (setup.py): started\n",
      "  Preparing metadata (setup.py): finished with status 'done'\n",
      "Collecting spacy<3.7.0,>=3.6.1 (from en-core-sci-md==0.5.3)\n",
      "  Using cached spacy-3.6.1-cp311-cp311-win_amd64.whl.metadata (26 kB)\n",
      "Requirement already satisfied: spacy-legacy<3.1.0,>=3.0.11 in c:\\users\\rizen3\\appdata\\roaming\\python\\python311\\site-packages (from spacy<3.7.0,>=3.6.1->en-core-sci-md==0.5.3) (3.0.12)\n",
      "Requirement already satisfied: spacy-loggers<2.0.0,>=1.0.0 in c:\\users\\rizen3\\appdata\\roaming\\python\\python311\\site-packages (from spacy<3.7.0,>=3.6.1->en-core-sci-md==0.5.3) (1.0.5)\n",
      "Requirement already satisfied: murmurhash<1.1.0,>=0.28.0 in c:\\users\\rizen3\\appdata\\roaming\\python\\python311\\site-packages (from spacy<3.7.0,>=3.6.1->en-core-sci-md==0.5.3) (1.0.10)\n",
      "Requirement already satisfied: cymem<2.1.0,>=2.0.2 in c:\\users\\rizen3\\appdata\\roaming\\python\\python311\\site-packages (from spacy<3.7.0,>=3.6.1->en-core-sci-md==0.5.3) (2.0.8)\n",
      "Requirement already satisfied: preshed<3.1.0,>=3.0.2 in c:\\users\\rizen3\\appdata\\roaming\\python\\python311\\site-packages (from spacy<3.7.0,>=3.6.1->en-core-sci-md==0.5.3) (3.0.9)\n",
      "Collecting thinc<8.2.0,>=8.1.8 (from spacy<3.7.0,>=3.6.1->en-core-sci-md==0.5.3)\n",
      "  Using cached thinc-8.1.12-cp311-cp311-win_amd64.whl.metadata (15 kB)\n",
      "Requirement already satisfied: wasabi<1.2.0,>=0.9.1 in c:\\users\\rizen3\\appdata\\roaming\\python\\python311\\site-packages (from spacy<3.7.0,>=3.6.1->en-core-sci-md==0.5.3) (1.1.2)\n",
      "Requirement already satisfied: srsly<3.0.0,>=2.4.3 in c:\\users\\rizen3\\appdata\\roaming\\python\\python311\\site-packages (from spacy<3.7.0,>=3.6.1->en-core-sci-md==0.5.3) (2.4.8)\n",
      "Requirement already satisfied: catalogue<2.1.0,>=2.0.6 in c:\\users\\rizen3\\appdata\\roaming\\python\\python311\\site-packages (from spacy<3.7.0,>=3.6.1->en-core-sci-md==0.5.3) (2.0.10)\n",
      "Requirement already satisfied: typer<0.10.0,>=0.3.0 in c:\\users\\rizen3\\appdata\\roaming\\python\\python311\\site-packages (from spacy<3.7.0,>=3.6.1->en-core-sci-md==0.5.3) (0.9.4)\n",
      "Requirement already satisfied: pathy>=0.10.0 in c:\\users\\rizen3\\appdata\\roaming\\python\\python311\\site-packages (from spacy<3.7.0,>=3.6.1->en-core-sci-md==0.5.3) (0.11.0)\n",
      "Requirement already satisfied: smart-open<7.0.0,>=5.2.1 in c:\\users\\rizen3\\appdata\\roaming\\python\\python311\\site-packages (from spacy<3.7.0,>=3.6.1->en-core-sci-md==0.5.3) (6.4.0)\n",
      "Requirement already satisfied: tqdm<5.0.0,>=4.38.0 in c:\\users\\rizen3\\appdata\\roaming\\python\\python311\\site-packages (from spacy<3.7.0,>=3.6.1->en-core-sci-md==0.5.3) (4.66.2)\n",
      "Requirement already satisfied: numpy>=1.15.0 in c:\\users\\rizen3\\appdata\\roaming\\python\\python311\\site-packages (from spacy<3.7.0,>=3.6.1->en-core-sci-md==0.5.3) (1.26.4)\n",
      "Requirement already satisfied: requests<3.0.0,>=2.13.0 in c:\\users\\rizen3\\appdata\\roaming\\python\\python311\\site-packages (from spacy<3.7.0,>=3.6.1->en-core-sci-md==0.5.3) (2.32.3)\n",
      "Requirement already satisfied: pydantic!=1.8,!=1.8.1,<3.0.0,>=1.7.4 in c:\\users\\rizen3\\appdata\\roaming\\python\\python311\\site-packages (from spacy<3.7.0,>=3.6.1->en-core-sci-md==0.5.3) (2.9.2)\n",
      "Requirement already satisfied: jinja2 in c:\\users\\rizen3\\appdata\\roaming\\python\\python311\\site-packages (from spacy<3.7.0,>=3.6.1->en-core-sci-md==0.5.3) (3.1.5)\n",
      "Requirement already satisfied: setuptools in c:\\program files\\python311\\lib\\site-packages (from spacy<3.7.0,>=3.6.1->en-core-sci-md==0.5.3) (65.5.0)\n",
      "Requirement already satisfied: packaging>=20.0 in c:\\users\\rizen3\\appdata\\roaming\\python\\python311\\site-packages (from spacy<3.7.0,>=3.6.1->en-core-sci-md==0.5.3) (23.2)\n",
      "Requirement already satisfied: langcodes<4.0.0,>=3.2.0 in c:\\users\\rizen3\\appdata\\roaming\\python\\python311\\site-packages (from spacy<3.7.0,>=3.6.1->en-core-sci-md==0.5.3) (3.3.0)\n",
      "Requirement already satisfied: pathlib-abc==0.1.1 in c:\\users\\rizen3\\appdata\\roaming\\python\\python311\\site-packages (from pathy>=0.10.0->spacy<3.7.0,>=3.6.1->en-core-sci-md==0.5.3) (0.1.1)\n",
      "Requirement already satisfied: annotated-types>=0.6.0 in c:\\users\\rizen3\\appdata\\roaming\\python\\python311\\site-packages (from pydantic!=1.8,!=1.8.1,<3.0.0,>=1.7.4->spacy<3.7.0,>=3.6.1->en-core-sci-md==0.5.3) (0.7.0)\n",
      "Requirement already satisfied: pydantic-core==2.23.4 in c:\\users\\rizen3\\appdata\\roaming\\python\\python311\\site-packages (from pydantic!=1.8,!=1.8.1,<3.0.0,>=1.7.4->spacy<3.7.0,>=3.6.1->en-core-sci-md==0.5.3) (2.23.4)\n",
      "Requirement already satisfied: typing-extensions>=4.6.1 in c:\\users\\rizen3\\appdata\\roaming\\python\\python311\\site-packages (from pydantic!=1.8,!=1.8.1,<3.0.0,>=1.7.4->spacy<3.7.0,>=3.6.1->en-core-sci-md==0.5.3) (4.12.2)\n",
      "Requirement already satisfied: charset-normalizer<4,>=2 in c:\\users\\rizen3\\appdata\\roaming\\python\\python311\\site-packages (from requests<3.0.0,>=2.13.0->spacy<3.7.0,>=3.6.1->en-core-sci-md==0.5.3) (3.1.0)\n",
      "Requirement already satisfied: idna<4,>=2.5 in c:\\users\\rizen3\\appdata\\roaming\\python\\python311\\site-packages (from requests<3.0.0,>=2.13.0->spacy<3.7.0,>=3.6.1->en-core-sci-md==0.5.3) (2.10)\n",
      "Requirement already satisfied: urllib3<3,>=1.21.1 in c:\\users\\rizen3\\appdata\\roaming\\python\\python311\\site-packages (from requests<3.0.0,>=2.13.0->spacy<3.7.0,>=3.6.1->en-core-sci-md==0.5.3) (2.2.2)\n",
      "Requirement already satisfied: certifi>=2017.4.17 in c:\\users\\rizen3\\appdata\\roaming\\python\\python311\\site-packages (from requests<3.0.0,>=2.13.0->spacy<3.7.0,>=3.6.1->en-core-sci-md==0.5.3) (2024.12.14)\n",
      "Requirement already satisfied: blis<0.8.0,>=0.7.8 in c:\\users\\rizen3\\appdata\\roaming\\python\\python311\\site-packages (from thinc<8.2.0,>=8.1.8->spacy<3.7.0,>=3.6.1->en-core-sci-md==0.5.3) (0.7.11)\n",
      "Requirement already satisfied: confection<1.0.0,>=0.0.1 in c:\\users\\rizen3\\appdata\\roaming\\python\\python311\\site-packages (from thinc<8.2.0,>=8.1.8->spacy<3.7.0,>=3.6.1->en-core-sci-md==0.5.3) (0.1.4)\n",
      "Requirement already satisfied: colorama in c:\\users\\rizen3\\appdata\\roaming\\python\\python311\\site-packages (from tqdm<5.0.0,>=4.38.0->spacy<3.7.0,>=3.6.1->en-core-sci-md==0.5.3) (0.4.6)\n",
      "Requirement already satisfied: click<9.0.0,>=7.1.1 in c:\\users\\rizen3\\appdata\\roaming\\python\\python311\\site-packages (from typer<0.10.0,>=0.3.0->spacy<3.7.0,>=3.6.1->en-core-sci-md==0.5.3) (8.1.8)\n",
      "Requirement already satisfied: MarkupSafe>=2.0 in c:\\users\\rizen3\\appdata\\roaming\\python\\python311\\site-packages (from jinja2->spacy<3.7.0,>=3.6.1->en-core-sci-md==0.5.3) (2.1.5)\n",
      "Using cached spacy-3.6.1-cp311-cp311-win_amd64.whl (12.0 MB)\n",
      "Using cached thinc-8.1.12-cp311-cp311-win_amd64.whl (1.5 MB)\n",
      "Installing collected packages: thinc, spacy\n",
      "  Attempting uninstall: thinc\n",
      "    Found existing installation: thinc 8.2.5\n",
      "    Uninstalling thinc-8.2.5:\n",
      "      Successfully uninstalled thinc-8.2.5\n",
      "  Attempting uninstall: spacy\n",
      "    Found existing installation: spacy 3.7.4\n",
      "    Uninstalling spacy-3.7.4:\n",
      "      Successfully uninstalled spacy-3.7.4\n",
      "Successfully installed spacy-3.6.1 thinc-8.1.12\n"
     ]
    },
    {
     "name": "stderr",
     "output_type": "stream",
     "text": [
      "WARNING: Ignoring invalid distribution ~pacy (C:\\Users\\Rizen3\\AppData\\Roaming\\Python\\Python311\\site-packages)\n",
      "WARNING: Ignoring invalid distribution ~pacy (C:\\Users\\Rizen3\\AppData\\Roaming\\Python\\Python311\\site-packages)\n",
      "WARNING: Ignoring invalid distribution ~pacy (C:\\Users\\Rizen3\\AppData\\Roaming\\Python\\Python311\\site-packages)\n",
      "WARNING: Ignoring invalid distribution ~pacy (C:\\Users\\Rizen3\\AppData\\Roaming\\Python\\Python311\\site-packages)\n",
      "ERROR: pip's dependency resolver does not currently take into account all the packages that are installed. This behaviour is the source of the following dependency conflicts.\n",
      "en-core-web-sm 3.7.1 requires spacy<3.8.0,>=3.7.2, but you have spacy 3.6.1 which is incompatible.\n",
      "scispacy 0.5.5 requires spacy<3.8.0,>=3.7.0, but you have spacy 3.6.1 which is incompatible.\n",
      "\n",
      "[notice] A new release of pip is available: 24.2 -> 25.0.1\n",
      "[notice] To update, run: python.exe -m pip install --upgrade pip\n"
     ]
    }
   ],
   "source": [
    "!pip install https://s3-us-west-2.amazonaws.com/ai2-s2-scispacy/releases/v0.5.3/en_core_sci_md-0.5.3.tar.gz\n",
    "# ^^^ To download medical specific model for spacy (Mandatory)"
   ]
  },
  {
   "cell_type": "code",
   "execution_count": 20,
   "id": "78b9755e-5bea-44b6-87c9-8ff977e51c0f",
   "metadata": {},
   "outputs": [
    {
     "name": "stdout",
     "output_type": "stream",
     "text": [
      "Name: en-core-sci-md"
     ]
    },
    {
     "name": "stderr",
     "output_type": "stream",
     "text": [
      "WARNING: Ignoring invalid distribution ~pacy (C:\\Users\\Rizen3\\AppData\\Roaming\\Python\\Python311\\site-packages)\n"
     ]
    },
    {
     "name": "stdout",
     "output_type": "stream",
     "text": [
      "\n",
      "Version: 0.5.3\n",
      "Summary: Spacy Models for Biomedical Text.\n",
      "Home-page: https://allenai.github.io/SciSpaCy/\n",
      "Author: Allen Institute for Artificial Intelligence\n",
      "Author-email: ai2-info@allenai.org\n",
      "License: CC BY-SA 3.0\n",
      "Location: C:\\Users\\Rizen3\\AppData\\Roaming\\Python\\Python311\\site-packages\n",
      "Requires: spacy\n",
      "Required-by: \n"
     ]
    }
   ],
   "source": [
    "!pip show en-core-sci-md"
   ]
  },
  {
   "cell_type": "code",
   "execution_count": 30,
   "id": "5d218fd6-d573-4c78-ad08-da59a89a9383",
   "metadata": {},
   "outputs": [],
   "source": [
    "nlp = spacy.load(\"en_core_sci_md\") # Medical NLP Model from SciSpacy"
   ]
  },
  {
   "cell_type": "code",
   "execution_count": 31,
   "id": "da77fc3c-fc2c-4ba2-8f3f-a97146c0f449",
   "metadata": {},
   "outputs": [
    {
     "name": "stdout",
     "output_type": "stream",
     "text": [
      "\n",
      "Doctor: How are you feeling today?\n",
      "Patient: I had a car accident. My neck and back hurt a lot for four weeks.\n",
      "Doctor: Did you receive treatment?\n",
      "Patient: Yes, I had ten physiotherapy sessions, and now I only have occasional back pain.\n",
      "\n"
     ]
    }
   ],
   "source": [
    "CONVERSATION = \"\"\"\n",
    "Doctor: How are you feeling today?\n",
    "Patient: I had a car accident. My neck and back hurt a lot for four weeks.\n",
    "Doctor: Did you receive treatment?\n",
    "Patient: Yes, I had ten physiotherapy sessions, and now I only have occasional back pain.\n",
    "\"\"\"\n",
    "\n",
    "doc = nlp(CONVERSATION)\n",
    "print(doc)"
   ]
  },
  {
   "cell_type": "code",
   "execution_count": 32,
   "id": "c088efd3-813e-42b1-b272-dcd6984482e2",
   "metadata": {},
   "outputs": [
    {
     "name": "stdout",
     "output_type": "stream",
     "text": [
      "ENTITY\n",
      "ENTITY\n",
      "ENTITY\n",
      "ENTITY\n",
      "ENTITY\n",
      "ENTITY\n",
      "ENTITY\n",
      "ENTITY\n",
      "ENTITY\n",
      "ENTITY\n",
      "ENTITY\n",
      "ENTITY\n",
      "ENTITY\n"
     ]
    }
   ],
   "source": [
    "for i in doc.ents:\n",
    "    print(i.label_)"
   ]
  },
  {
   "cell_type": "code",
   "execution_count": 33,
   "id": "5e9e7131-0679-453f-b59a-54de4364d362",
   "metadata": {},
   "outputs": [
    {
     "name": "stdout",
     "output_type": "stream",
     "text": [
      "Symptoms : [],Diagnosis: ,Treatment: [],Prognosis: \n"
     ]
    }
   ],
   "source": [
    "symptoms, treatments, diagnosis, prognosis = [],[],\"\",\"\"\n",
    "\n",
    "symptom_labels = [\"SYMPTOM\", \"DISEASE\", \"CONDITION\"]\n",
    "treatment_labels = [\"TREATMENT\", \"PROCEDURE\"]\n",
    "diagnosis_labels = [\"DIAGNOSIS\"]\n",
    "prognosis_labels = [\"PROGNOSIS\"]\n",
    "\n",
    "for entity in doc.ents:\n",
    "    if entity.label_ in symptom_labels:\n",
    "        symptoms.append(ent.text)\n",
    "    elif entity.label_ in treatment_labels:\n",
    "        treaments.append(ent.text)\n",
    "    elif entity.label_ in diagnosis_labels:\n",
    "        diagnosis += entity.text\n",
    "    elif entity.label_ in prognosis_labels:\n",
    "        prognosis += entity.text\n",
    "\n",
    "print(f\"Symptoms : {list(set(symptoms))},Diagnosis: {diagnosis},Treatment: {list(set(treatments))},Prognosis: {prognosis}\")"
   ]
  },
  {
   "cell_type": "code",
   "execution_count": null,
   "id": "16d6fbc9-592a-4e4b-b72d-a2dc97d77989",
   "metadata": {},
   "outputs": [],
   "source": []
  },
  {
   "cell_type": "code",
   "execution_count": null,
   "id": "9b7ea026-2f42-497f-85b0-9ccc51edac95",
   "metadata": {},
   "outputs": [],
   "source": []
  },
  {
   "cell_type": "code",
   "execution_count": null,
   "id": "81b29159-ef10-4a8d-bc4c-4da6c8c04e39",
   "metadata": {},
   "outputs": [],
   "source": []
  },
  {
   "cell_type": "code",
   "execution_count": null,
   "id": "04da1dd1-4b7f-4085-b9b4-e70a4baed8be",
   "metadata": {},
   "outputs": [],
   "source": []
  },
  {
   "cell_type": "code",
   "execution_count": null,
   "id": "f5eb7caa-7751-470e-afd0-171346a02058",
   "metadata": {},
   "outputs": [],
   "source": []
  }
 ],
 "metadata": {
  "kernelspec": {
   "display_name": "Python 3 (ipykernel)",
   "language": "python",
   "name": "python3"
  },
  "language_info": {
   "codemirror_mode": {
    "name": "ipython",
    "version": 3
   },
   "file_extension": ".py",
   "mimetype": "text/x-python",
   "name": "python",
   "nbconvert_exporter": "python",
   "pygments_lexer": "ipython3",
   "version": "3.11.4"
  }
 },
 "nbformat": 4,
 "nbformat_minor": 5
}
